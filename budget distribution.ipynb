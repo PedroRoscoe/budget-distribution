{
 "cells": [
  {
   "cell_type": "code",
   "execution_count": null,
   "id": "d7da4e37",
   "metadata": {},
   "outputs": [],
   "source": [
    "import pandas as pd\n",
    "import math as ma\n",
    "from sklearn.metrics import mean_squared_error\n",
    "import numpy as np\n",
    "import matplotlib.pyplot as plt\n",
    "import statsmodels.api as sm\n",
    "import statsmodels as sm1\n",
    "from scipy.stats import norm\n",
    "from statsmodels.tsa.stattools import adfuller\n",
    "from statsmodels.tsa.arima_model import ARIMA\n",
    "from statsmodels.graphics.tsaplots import plot_acf , plot_pacf\n",
    "import itertools\n",
    "import warnings\n",
    "warnings.filterwarnings(\"ignore\")\n",
    "import os\n",
    "import math as ma\n",
    "from datetime import timedelta\n",
    "from datetime import date\n",
    "from datetime import datetime\n",
    "os.chdir(\"C:/Users/pedro/OneDrive/Área de Trabalho/Orçamento/Modelo preditivo\")\n",
    "from pmdarima.arima import auto_arima\n",
    "import mysql.connector"
   ]
  },
  {
   "cell_type": "markdown",
   "id": "8411fa8e",
   "metadata": {},
   "source": [
    "### Connect to mysql server"
   ]
  },
  {
   "cell_type": "code",
   "execution_count": null,
   "id": "4870ba76",
   "metadata": {},
   "outputs": [],
   "source": [
    "from mysql.connector import Error\n",
    "\n",
    "try:\n",
    "    connection = mysql.connector.connect(host='xxxxxxxx',\n",
    "                                         database='xxxxxx',\n",
    "                                         user='xxxxxx',\n",
    "                                         password='xxxxxx')\n",
    "    if connection.is_connected():\n",
    "        db_Info = connection.get_server_info()\n",
    "        print(\"Connected to MySQL Server version \", db_Info)\n",
    "        cursor = connection.cursor()\n",
    "        cursor.execute(\"select database();\")\n",
    "        record = cursor.fetchone()\n",
    "        print(\"You're connected to database: \", record)\n",
    "\n",
    "except Error as e:\n",
    "    print(\"Error while connecting to MySQL\", e)\n",
    "finally:\n",
    "    a=a\n",
    " #  if connection.is_connected():\n",
    " #       cursor.close()\n",
    " #       connection.close()\n",
    " #       print(\"MySQL connection is closed\")"
   ]
  },
  {
   "cell_type": "code",
   "execution_count": null,
   "id": "fa0d0122",
   "metadata": {},
   "outputs": [],
   "source": [
    "stringSQL=('SELECT * FROM xxxxx where data_captura=\"2021-02-18\" and item_orcamentario=xxxxx and atualizacao=\"2021-02-18 16:11:42\"')\n",
    "stringSQL\n",
    "mycursor = connection.cursor()\n",
    "\n",
    "mycursor.execute(stringSQL)\n",
    "\n",
    "myresult = mycursor.fetchall()"
   ]
  },
  {
   "cell_type": "code",
   "execution_count": null,
   "id": "40d285ff",
   "metadata": {},
   "outputs": [],
   "source": [
    "teste=pd.DataFrame(myresult)"
   ]
  },
  {
   "cell_type": "code",
   "execution_count": null,
   "id": "b0064e16",
   "metadata": {},
   "outputs": [],
   "source": [
    "teste"
   ]
  },
  {
   "cell_type": "code",
   "execution_count": null,
   "id": "bac871f3",
   "metadata": {},
   "outputs": [],
   "source": [
    "#Ho: It is non stationary\n",
    "#H1: It is stationary\n",
    "\n",
    "def adfuller_test(sales):\n",
    "    \n",
    "    result=adfuller(sales)\n",
    "    labels = ['ADF Test Statistic','p-value','#Lags Used','Number of Observations Used']\n",
    "    #for value,label in zip(result,labels):\n",
    "        #print(label+' : '+str(value) )\n",
    "    if result[1] <= 0.05:\n",
    "        #print(\"strong evidence against the null hypothesis(Ho), reject the null hypothesis. Data has no unit root and is stationary\")\n",
    "        return True\n",
    "    else:\n",
    "        #print(\"weak evidence against null hypothesis, time series has a unit root, indicating it is non-stationary \")\n",
    "        return False"
   ]
  },
  {
   "cell_type": "code",
   "execution_count": null,
   "id": "2d174e3e",
   "metadata": {},
   "outputs": [],
   "source": [
    "def diferenc(ac):\n",
    "    aux1=ac\n",
    "    x=1\n",
    "    aux1['realizado diferenciado'] = aux1['realizado'] \n",
    "    sta=adfuller_test(aux1[\"realizado\"])\n",
    "    while (not sta):\n",
    "        aux1['realizado diferenciado'] = aux1['realizado diferenciado'] - aux1['realizado diferenciado'].shift(1)\n",
    "        sta=adfuller_test(aux1['realizado diferenciado'].dropna())\n",
    "        print(sta)\n",
    "        if not sta:\n",
    "            x=x+1\n",
    "    return [aux1,x]"
   ]
  },
  {
   "cell_type": "code",
   "execution_count": null,
   "id": "05e114c5",
   "metadata": {},
   "outputs": [],
   "source": [
    "\n",
    "data = pd.read_excel(\"xxxx.xlsx\")\n",
    "data20 = pd.read_excel(\"2020-2021.xlsx\", sheet_name=\"2020\" )\n",
    "data21 = pd.read_excel(\"2020-2021.xlsx\", sheet_name=\"2021\" )\n",
    "xxxx=pd.read_excel(\"xxx.xlsx\", sheet_name=\"xxxx\" )"
   ]
  },
  {
   "cell_type": "code",
   "execution_count": null,
   "id": "c1d86025",
   "metadata": {},
   "outputs": [],
   "source": [
    "data20[data20.prefixo==xxxx] "
   ]
  },
  {
   "cell_type": "code",
   "execution_count": null,
   "id": "bf8db714",
   "metadata": {},
   "outputs": [],
   "source": [
    "a=data20[data20.duplicated(['prefixo'])]\n",
    "b=data21[data21.duplicated(['prefixo'])]\n",
    "a"
   ]
  },
  {
   "cell_type": "code",
   "execution_count": null,
   "id": "7d1e039e",
   "metadata": {},
   "outputs": [],
   "source": [
    "b"
   ]
  },
  {
   "cell_type": "code",
   "execution_count": null,
   "id": "df61e985",
   "metadata": {},
   "outputs": [],
   "source": [
    "a=data20[(data20.orcado_mes_02<0)&(data20.orcado_mes_01<0)&(data20.orcado_mes_03<0)&(data20.orcado_mes_04<0)&(data20.orcado_mes_05<0)]\n",
    "len(a[\"prefixo\"].unique())"
   ]
  },
  {
   "cell_type": "code",
   "execution_count": null,
   "id": "b71af72a",
   "metadata": {},
   "outputs": [],
   "source": [
    "aux20=[]\n",
    "\n",
    "for x in range(len(data20)):\n",
    "        aux20.append([data20[\"prefixo\"].iloc[x],'202001',data20[\"realizado_mes_01\"].iloc[x]]) #mes 1\n",
    "        aux20.append([data20[\"prefixo\"].iloc[x],'202002',data20[\"realizado_mes_02\"].iloc[x]]) #mes 2\n",
    "        aux20.append([data20[\"prefixo\"].iloc[x],'202003',data20[\"realizado_mes_03\"].iloc[x]]) #mes 3\n",
    "        aux20.append([data20[\"prefixo\"].iloc[x],'202004',data20[\"realizado_mes_04\"].iloc[x]]) #mes 4\n",
    "        aux20.append([data20[\"prefixo\"].iloc[x],'202005',data20[\"realizado_mes_05\"].iloc[x]]) #mes 5\n",
    "        aux20.append([data20[\"prefixo\"].iloc[x],'202006',data20[\"realizado_mes_06\"].iloc[x]]) #mes 6\n",
    "        aux20.append([data20[\"prefixo\"].iloc[x],'202007',data20[\"realizado_mes_07\"].iloc[x]]) #mes 7\n",
    "        aux20.append([data20[\"prefixo\"].iloc[x],'202008',data20[\"realizado_mes_08\"].iloc[x]]) #mes 8\n",
    "        aux20.append([data20[\"prefixo\"].iloc[x],'202009',data20[\"realizado_mes_09\"].iloc[x]]) #mes 9\n",
    "        aux20.append([data20[\"prefixo\"].iloc[x],'202010',data20[\"realizado_mes_10\"].iloc[x]]) #mes 10\n",
    "        aux20.append([data20[\"prefixo\"].iloc[x],'202011',data20[\"realizado_mes_11\"].iloc[x]]) #mes 11\n",
    "        aux20.append([data20[\"prefixo\"].iloc[x],'202012',data20[\"realizado_mes_12\"].iloc[x]]) #mes 12\n",
    "        "
   ]
  },
  {
   "cell_type": "code",
   "execution_count": null,
   "id": "922412e7",
   "metadata": {},
   "outputs": [],
   "source": [
    "aux21=[]\n",
    "month = np.int64(date.today().month)\n",
    "\n",
    "for x in range(len(data21)):\n",
    "        if month>=1:\n",
    "            aux21.append([data21[\"prefixo\"].iloc[x],'202101',data21[\"realizado_mes_01\"].iloc[x],data21[\"orcado_mes_01\"].iloc[x]]) #mes 01\n",
    "            if month>=2:\n",
    "                aux21.append([data21[\"prefixo\"].iloc[x],'202102',data21[\"realizado_mes_02\"].iloc[x],data21[\"orcado_mes_02\"].iloc[x]]) #mes 02\n",
    "                if month>=3:\n",
    "                    aux21.append([data21[\"prefixo\"].iloc[x],'202103',data21[\"realizado_mes_03\"].iloc[x],data21[\"orcado_mes_03\"].iloc[x]]) #mes 03\n",
    "                    if month>=4:\n",
    "                        aux21.append([data21[\"prefixo\"].iloc[x],'202104',data21[\"realizado_mes_04\"].iloc[x],data21[\"orcado_mes_04\"].iloc[x]]) #mes 04\n",
    "                        if month>=5:\n",
    "                            aux21.append([data21[\"prefixo\"].iloc[x],'202105',data21[\"realizado_mes_05\"].iloc[x],data21[\"orcado_mes_05\"].iloc[x]]) #mes 05\n",
    "                            if month>=6:\n",
    "                                aux21.append([data21[\"prefixo\"].iloc[x],'202106',data21[\"realizado_mes_06\"].iloc[x],data21[\"orcado_mes_06\"].iloc[x]]) #mes 06\n",
    "                                if month>=7:\n",
    "                                    aux21.append([data21[\"prefixo\"].iloc[x],'202107',data21[\"realizado_mes_07\"].iloc[x],data21[\"orcado_mes_07\"].iloc[x]]) #mes 07\n",
    "                                    if month>=8:\n",
    "                                        aux21.append([data21[\"prefixo\"].iloc[x],'202107',data21[\"realizado_mes_08\"].iloc[x],data21[\"orcado_mes_08\"].iloc[x]]) #mes 08\n",
    "                                        if month>=9:\n",
    "                                            aux21.append([data21[\"prefixo\"].iloc[x],'202107',data21[\"realizado_mes_09\"].iloc[x],data21[\"orcado_mes_09\"].iloc[x]]) #mes 09\n",
    "                                            if month>=10:\n",
    "                                                aux21.append([data21[\"prefixo\"].iloc[x],'202107',data21[\"realizado_mes_10\"].iloc[x],data21[\"orcado_mes_10\"].iloc[x]]) #mes 10\n",
    "                                                if month>=11:\n",
    "                                                    aux21.append([data21[\"prefixo\"].iloc[x],'202107',data21[\"realizado_mes_11\"].iloc[x],data21[\"orcado_mes_11\"].iloc[x]]) #mes 11\n",
    "                                                    if month>=12:\n",
    "                                                        aux21.append([data21[\"prefixo\"].iloc[x],'202107',data21[\"realizado_mes_12\"].iloc[x],data21[\"orcado_mes_12\"].iloc[x]]) #mes 12"
   ]
  },
  {
   "cell_type": "code",
   "execution_count": null,
   "id": "b06e3eb8",
   "metadata": {},
   "outputs": [],
   "source": [
    "aux20df= pd.DataFrame(aux20)"
   ]
  },
  {
   "cell_type": "code",
   "execution_count": null,
   "id": "1270db6d",
   "metadata": {},
   "outputs": [],
   "source": [
    "aux21df= pd.DataFrame(aux21)"
   ]
  },
  {
   "cell_type": "code",
   "execution_count": null,
   "id": "2af15255",
   "metadata": {},
   "outputs": [],
   "source": [
    "aux20df.columns=[\"prefixo\",\"data\",\"realizado\"]\n",
    "aux20df.tail()"
   ]
  },
  {
   "cell_type": "code",
   "execution_count": null,
   "id": "f8f750ba",
   "metadata": {},
   "outputs": [],
   "source": [
    "aux21df.columns=[\"prefixo\",\"data\",\"realizado\",\"orcado21\"]\n",
    "aux21df.tail(10)"
   ]
  },
  {
   "cell_type": "code",
   "execution_count": null,
   "id": "6f46a488",
   "metadata": {},
   "outputs": [],
   "source": [
    "dataTV=data[data.CD_ORC==75829010000]\n",
    "dataTV=dataTV[[\"prefixo\",\"AAMM\",\"REA\"]]\n",
    "dataTV.columns=[\"prefixo\",\"data\",\"realizado\"]\n",
    "dataTV.head()"
   ]
  },
  {
   "cell_type": "code",
   "execution_count": null,
   "id": "2c20e8f4",
   "metadata": {},
   "outputs": [],
   "source": [
    "dataTotal=pd.concat([dataTV,aux20df,aux21df])"
   ]
  },
  {
   "cell_type": "code",
   "execution_count": null,
   "id": "cff66097",
   "metadata": {},
   "outputs": [],
   "source": [
    "dataTotal.columns=[\"prefixo\",\"data1\",\"realizado\",\"orcado21\"]\n",
    "dataTotal"
   ]
  },
  {
   "cell_type": "code",
   "execution_count": null,
   "id": "599a2d59",
   "metadata": {},
   "outputs": [],
   "source": [
    "dataTotal[\"data1\"]= dataTotal[\"data1\"].map(str)\n",
    "\n",
    "dataTotal"
   ]
  },
  {
   "cell_type": "code",
   "execution_count": null,
   "id": "6639782a",
   "metadata": {},
   "outputs": [],
   "source": [
    "\n",
    "dataTotal[\"DATA2\"] = pd.to_datetime(dataTotal.data1, format=\"%Y%m\")\n",
    "\n",
    "dataTotal.drop(columns=\"data1\", inplace=True)\n",
    "dataTotal.columns=[\"prefixo\",\"realizado\",\"orcado21\",\"data\"]\n",
    "\n",
    "dataTotal"
   ]
  },
  {
   "cell_type": "code",
   "execution_count": null,
   "id": "1e02c337",
   "metadata": {},
   "outputs": [],
   "source": [
    "dataTotal[\"realizado\"]=dataTotal.realizado.apply(lambda x : (x*-1))\n",
    "dataTotal"
   ]
  },
  {
   "cell_type": "code",
   "execution_count": null,
   "id": "90629bb8",
   "metadata": {},
   "outputs": [],
   "source": [
    "dataTotal['orcado21'] = dataTotal['orcado21'].fillna(0)"
   ]
  },
  {
   "cell_type": "code",
   "execution_count": null,
   "id": "c829d84f",
   "metadata": {},
   "outputs": [],
   "source": [
    "dataTotal=dataTotal.sort_values(\"data\")"
   ]
  },
  {
   "cell_type": "code",
   "execution_count": null,
   "id": "65ab1c97",
   "metadata": {},
   "outputs": [],
   "source": [
    "dataTotal.tail()"
   ]
  },
  {
   "cell_type": "code",
   "execution_count": null,
   "id": "1ca1e98c",
   "metadata": {},
   "outputs": [],
   "source": [
    "\n"
   ]
  },
  {
   "cell_type": "code",
   "execution_count": null,
   "id": "d5ddedad",
   "metadata": {},
   "outputs": [],
   "source": [
    "dataTotal.set_index(\"data\", inplace=True)"
   ]
  },
  {
   "cell_type": "code",
   "execution_count": null,
   "id": "1e78fe39",
   "metadata": {},
   "outputs": [],
   "source": [
    "dataTotal.tail()"
   ]
  },
  {
   "cell_type": "code",
   "execution_count": null,
   "id": "c3a1e8d3",
   "metadata": {},
   "outputs": [],
   "source": [
    "dataTotal.head()"
   ]
  },
  {
   "cell_type": "code",
   "execution_count": null,
   "id": "196e781f",
   "metadata": {},
   "outputs": [],
   "source": [
    "dataTotal"
   ]
  },
  {
   "cell_type": "code",
   "execution_count": null,
   "id": "d00188e6",
   "metadata": {},
   "outputs": [],
   "source": [
    "a=dataTotal[dataTotal[\"prefixo\"].isin(xxxxx[\"prefixo\"])]    \n",
    "list_dataTV=[]\n",
    "for Cat in a[\"prefixo\"].unique():\n",
    "    list_dataTV.append(a[a.prefixo==Cat])"
   ]
  },
  {
   "cell_type": "code",
   "execution_count": null,
   "id": "9eb880a8",
   "metadata": {},
   "outputs": [],
   "source": [
    "list_dataTV[0].head()"
   ]
  },
  {
   "cell_type": "code",
   "execution_count": null,
   "id": "8d5543c5",
   "metadata": {},
   "outputs": [],
   "source": [
    "todays_date = date.today().year\n",
    "todays_date"
   ]
  },
  {
   "cell_type": "code",
   "execution_count": null,
   "id": "667463a3",
   "metadata": {},
   "outputs": [],
   "source": [
    "### precisa utilizar a variavel year no rel"
   ]
  },
  {
   "cell_type": "code",
   "execution_count": null,
   "id": "d70cb5bf",
   "metadata": {},
   "outputs": [],
   "source": [
    "year = np.int64(date.today().year)\n",
    "pred_list=pd.DataFrame()\n",
    "pred_list[\"prefixo\"]=[]\n",
    "pred_list[\"gasto\"]=[]\n",
    "a=dataTotal[dataTotal[\"prefixo\"].isin(xxxxx[\"prefixo\"])]    \n",
    "list_dataTV=[]\n",
    "for Cat in a[\"prefixo\"].unique():\n",
    "    list_dataTV.append(a[a.prefixo==Cat])\n",
    "\n",
    "for Cat in range(len(list_dataTV)): \n",
    "    aux=list_dataTV[Cat]\n",
    "    \n",
    "    ##tratar outlier\n",
    "\n",
    "    #max_threshold=aux['realizado'].quantile(0.95)\n",
    "    #min_threshold=aux['realizado'].quantile(0.05)\n",
    "    #media=aux.mean(axis=0 ,  skipna = True)\n",
    "    #media[1]\n",
    "    #for x in range(len(aux)):\n",
    "    #    if (aux['realizado'].iloc[x]>max_threshold)|(aux['realizado'].iloc[x]<min_threshold):\n",
    "    #        aux['realizado'].iloc[x]=media[1]\n",
    "\n",
    "\n",
    "\n",
    "    \n",
    "    \n",
    "\n",
    "    train= aux[:(ma.floor(len(aux)*0.85))]\n",
    "    test=aux[((ma.floor(len(aux)*0.85))-1):]\n",
    "\n",
    "\n",
    "\n",
    "\n",
    "    arima_model = auto_arima(train[\"realizado\"].dropna(),start_p=0,start_d=0,start_q=0,max_p=8,max_d=8,max_q=8,start_P=0,D=0,start_Q=0,max_P=8,max_D=8,max_Q=8,m=12, seasonal=True, error_action='warn' , trace = True , supress_warning=True ,stepwise = True, random_state=20,n_fits=50)\n",
    "\n",
    "\n",
    "    \n",
    "\n",
    "    predictions=pd.DataFrame(arima_model.predict(n_periods=len(test.index)),index=test.index)\n",
    "\n",
    "\n",
    "    plt.figure(figsize=(8,5))\n",
    "    plt.plot(train[\"realizado\"], label=\"training\")\n",
    "    plt.plot(test[\"realizado\"], label=\"test\")\n",
    "    plt.plot(predictions, label=\"predictions\")\n",
    "    plt.legend(loc=\"upper left\")\n",
    "    plt.show()\n",
    "\n",
    "\n",
    "    from sklearn.metrics import r2_score\n",
    "    train['predicted_sales']= predictions\n",
    "    r2_score(predictions[0].dropna(),test['realizado'])\n",
    "    \n",
    "    \n",
    "    aux2=aux.reset_index()\n",
    "    aux2=aux2[-1:]\n",
    "    month=pd.DatetimeIndex(aux2['data']).month\n",
    "    year=pd.DatetimeIndex(aux2['data']).year\n",
    "    next_month=month[0]+1\n",
    "    next_year=year[0]\n",
    "    if month==12:\n",
    "        next_month=1\n",
    "        next_year=year[0]+1\n",
    "    newdatestr = (str(next_year) + str(next_month))\n",
    "    newDate = pd.to_datetime(newdatestr, format=\"%Y%m\")\n",
    "    aaa=pd.DataFrame([{'data':newDate}])\n",
    "    aaa.set_index(\"data\", inplace=True)\n",
    "    predictions=pd.DataFrame(arima_model.predict(n_periods=1),index=aaa.index)\n",
    "    print(\"a\")\n",
    "    print(predictions)\n",
    "    plt.figure(figsize=(8,5))\n",
    "    plt.plot(train[\"realizado\"], label=\"training\")\n",
    "    #plt.plot(test[\"realizado\"], label=\"test\")\n",
    "    plt.plot(predictions, label=\"predictions\")\n",
    "    plt.legend(loc=\"upper left\")\n",
    "    plt.show()\n",
    "    relVig=aux[np.int64(aux.index.year)==np.int64(year)][\"realizado\"].sum()\n",
    "    pred_aux=pd.DataFrame([(int(aux[\"prefixo\"].unique()[0]),int(predictions[0][0]),aux[\"orcado21\"].sum(),relVig)] , columns=[\"prefixo\",\"gasto\",\"orcadoVigente\",\"realizadoVigente\"])\n",
    "    \n",
    "    pred_list=pred_list.append(pred_aux)\n",
    "    "
   ]
  },
  {
   "cell_type": "code",
   "execution_count": null,
   "id": "1239cc6e",
   "metadata": {},
   "outputs": [],
   "source": [
    "total_previsto=pred_list[\"gasto\"].sum()"
   ]
  },
  {
   "cell_type": "code",
   "execution_count": null,
   "id": "ca6ce59e",
   "metadata": {},
   "outputs": [],
   "source": [
    "total_previsto"
   ]
  },
  {
   "cell_type": "code",
   "execution_count": null,
   "id": "8cd22e84",
   "metadata": {},
   "outputs": [],
   "source": [
    "pred_list[\"percent\"]=pred_list.gasto.apply(lambda x : (x/total_previsto))"
   ]
  },
  {
   "cell_type": "code",
   "execution_count": null,
   "id": "085c518e",
   "metadata": {},
   "outputs": [],
   "source": [
    "pred_list[\"orcadoVigente\"]=pred_list.orcadoVigente.apply(lambda x : (x*-1))"
   ]
  },
  {
   "cell_type": "code",
   "execution_count": null,
   "id": "7aeaca7d",
   "metadata": {},
   "outputs": [],
   "source": [
    "pred_list[\"desvio\"]=0\n",
    "for x in range(len(pred_list)):\n",
    "        pred_list[\"desvio\"].iloc[x]=pred_list[\"realizadoVigente\"].iloc[x]-pred_list[\"orcadoVigente\"].iloc[x]\n"
   ]
  },
  {
   "cell_type": "code",
   "execution_count": null,
   "id": "6c8ee45b",
   "metadata": {},
   "outputs": [],
   "source": [
    "pred_list"
   ]
  },
  {
   "cell_type": "code",
   "execution_count": null,
   "id": "8e63bed1",
   "metadata": {},
   "outputs": [],
   "source": [
    "orcxxxx=1665739\n",
    "\n",
    "orc_dist=int(0.9*orcxxxx)\n",
    "orc_dist"
   ]
  },
  {
   "cell_type": "code",
   "execution_count": null,
   "id": "91765282",
   "metadata": {},
   "outputs": [],
   "source": [
    "total_prev=pred_list[\"gasto\"].sum()-pred_list[\"desvio\"].sum()"
   ]
  },
  {
   "cell_type": "code",
   "execution_count": null,
   "id": "4782ad38",
   "metadata": {},
   "outputs": [],
   "source": [
    "total_prev"
   ]
  },
  {
   "cell_type": "code",
   "execution_count": null,
   "id": "6516ea8a",
   "metadata": {},
   "outputs": [],
   "source": [
    "pred_list[\"percent\"]=0\n",
    "for x in range(len(pred_list)):\n",
    "        pred_list[\"percent\"].iloc[x]=(pred_list[\"gasto\"].iloc[x]-pred_list[\"desvio\"].iloc[x])/total_prev"
   ]
  },
  {
   "cell_type": "code",
   "execution_count": null,
   "id": "5437cfae",
   "metadata": {},
   "outputs": [],
   "source": [
    "#pred_list[\"percent\"]=pred_list.gasto.apply(lambda x : (x/total_previsto))"
   ]
  },
  {
   "cell_type": "code",
   "execution_count": null,
   "id": "ac1651d1",
   "metadata": {},
   "outputs": [],
   "source": [
    "pred_list[\"gasto_ajustado\"]=pred_list.percent.apply(lambda x : int(x*orc_dist))"
   ]
  },
  {
   "cell_type": "code",
   "execution_count": null,
   "id": "0f4608e2",
   "metadata": {},
   "outputs": [],
   "source": [
    "pred_list"
   ]
  },
  {
   "cell_type": "code",
   "execution_count": null,
   "id": "f6b24e3e",
   "metadata": {},
   "outputs": [],
   "source": [
    "pred_list.to_excel(\"output.xlsx\")"
   ]
  },
  {
   "cell_type": "code",
   "execution_count": null,
   "id": "3b75c837",
   "metadata": {},
   "outputs": [],
   "source": []
  },
  {
   "cell_type": "code",
   "execution_count": null,
   "id": "f243f285",
   "metadata": {},
   "outputs": [],
   "source": [
    "#### tratar valor dristribuido como negativo"
   ]
  }
 ],
 "metadata": {
  "kernelspec": {
   "display_name": "Python 3",
   "language": "python",
   "name": "python3"
  },
  "language_info": {
   "codemirror_mode": {
    "name": "ipython",
    "version": 3
   },
   "file_extension": ".py",
   "mimetype": "text/x-python",
   "name": "python",
   "nbconvert_exporter": "python",
   "pygments_lexer": "ipython3",
   "version": "3.8.8"
  }
 },
 "nbformat": 4,
 "nbformat_minor": 5
}
